{
 "cells": [
  {
   "cell_type": "code",
   "execution_count": 48,
   "metadata": {},
   "outputs": [],
   "source": [
    "# Usamos isso para atualizar o notebook automaticamente\n",
    "%reload_ext autoreload\n",
    "%autoreload 2 \n",
    "\n",
    "# Carregamos as funções \n",
    "from name_scraping import *\n",
    "from assisted_google_search import *\n",
    "\n",
    "# Usamos a Airtable (https://airtable.com) pela facilidade de subir dados\n",
    "from airtable import Airtable\n",
    "\n",
    "table = Airtable(api_key=,\n",
    "                 base_key=,\n",
    "                 table_name='senado')"
   ]
  },
  {
   "cell_type": "code",
   "execution_count": 51,
   "metadata": {},
   "outputs": [],
   "source": [
    "# Extraímos os dados do site do Senado\n",
    "data = senado()"
   ]
  },
  {
   "cell_type": "code",
   "execution_count": 52,
   "metadata": {},
   "outputs": [
    {
     "data": {
      "text/plain": [
       "{'cargo': 'senado federal',\n",
       " 'estado': 'AC',\n",
       " 'nome': 'Mailza Gomes',\n",
       " 'partido': 'PP',\n",
       " 'periodo': '2015 - 2023'}"
      ]
     },
     "execution_count": 52,
     "metadata": {},
     "output_type": "execute_result"
    }
   ],
   "source": [
    "# Testando:\n",
    "data[0]"
   ]
  },
  {
   "cell_type": "code",
   "execution_count": 62,
   "metadata": {},
   "outputs": [],
   "source": [
    "# Baixe o Chromedriver e cole aqui o path. Exemplo:\n",
    "chromedriver_path = '/Users/pedroburgos/Downloads/chromedriver 3'\n",
    "driver = initiate_browser(chromedriver_path=chromedriver_path)"
   ]
  },
  {
   "cell_type": "code",
   "execution_count": null,
   "metadata": {},
   "outputs": [],
   "source": [
    "import time\n",
    "\n",
    "# Agora, buscamos por cada senador e manualmente selecionamos o link\n",
    "for senador in data:\n",
    "    rede = 'facebook'\n",
    "    nome = senador['nome']\n",
    "    cargo = 'senador'\n",
    "    search_url = f'https://www.google.com/search?q={rede}+\"{nome}\"+{cargo}'\n",
    "    driver.get(search_url)\n",
    "    in_google = True\n",
    "    while in_google:\n",
    "        if 'google.com' in driver.current_url:\n",
    "            time.sleep(2)\n",
    "        else:\n",
    "            in_google = False\n",
    "    if 'facebook.com' in driver.current_url:\n",
    "        fb = decode_facebook(driver.current_url, driver)\n",
    "        if not fb:\n",
    "            print('Error retrieving Facebook info')\n",
    "            fb = {\"facebook_url\": None}\n",
    "        senador.update(fb)\n",
    "    else:\n",
    "        print('No Facebook profile found')\n",
    "        fb = {\"facebook_url\": None}\n",
    "        senador.update(fb)\n",
    "    table.insert(senador)"
   ]
  },
  {
   "cell_type": "code",
   "execution_count": null,
   "metadata": {},
   "outputs": [],
   "source": []
  }
 ],
 "metadata": {
  "kernelspec": {
   "display_name": "Python 3",
   "language": "python",
   "name": "python3"
  },
  "language_info": {
   "codemirror_mode": {
    "name": "ipython",
    "version": 3
   },
   "file_extension": ".py",
   "mimetype": "text/x-python",
   "name": "python",
   "nbconvert_exporter": "python",
   "pygments_lexer": "ipython3",
   "version": "3.6.3"
  }
 },
 "nbformat": 4,
 "nbformat_minor": 2
}
